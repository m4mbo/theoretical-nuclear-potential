{
 "cells": [
  {
   "cell_type": "code",
   "execution_count": 3,
   "id": "a9e35d45-3455-42a7-a5f0-bc026490ef7d",
   "metadata": {},
   "outputs": [],
   "source": [
    "import numpy as np\n",
    "import matplotlib as plt\n",
    "import sympy as sy"
   ]
  },
  {
   "cell_type": "code",
   "execution_count": 10,
   "id": "277ee643",
   "metadata": {},
   "outputs": [],
   "source": [
    "def gamma_fun(a):\n",
    "    t = sy.Symbol(\"t\")\n",
    "    return sy.integrate(g_integral(t, a), (t, 0, float('inf')))\n",
    "\n",
    "def g_integral(t, a):\n",
    "    return (np.e**(-t))*(t**(a-1))"
   ]
  },
  {
   "cell_type": "markdown",
   "id": "519f3c31",
   "metadata": {},
   "source": [
    "hypergeometric function of second kind"
   ]
  },
  {
   "cell_type": "code",
   "execution_count": 11,
   "id": "24c42aca",
   "metadata": {},
   "outputs": [],
   "source": [
    "def U(a, b, z):\n",
    "    t = sy.Symbol(\"t\")\n",
    "    r = sy.integrate(g_integral(t, a), (t, 0, float('inf')))\n",
    "    r /= gamma_fun(a)\n",
    "    return r\n",
    "\n",
    "def U_integral(t, a, b, z):\n",
    "    r = (np.e**(-z*t))\n",
    "    r *= t**(a-1)\n",
    "    r *= (t+1)**(b-a-1)\n",
    "    return r\n",
    "\n",
    "def U(x):\n",
    "    a = 1 - (np.i)"
   ]
  },
  {
   "cell_type": "code",
   "execution_count": null,
   "id": "e6b30bec",
   "metadata": {},
   "outputs": [],
   "source": []
  }
 ],
 "metadata": {
  "kernelspec": {
   "display_name": "Python 3 (ipykernel)",
   "language": "python",
   "name": "python3"
  },
  "language_info": {
   "codemirror_mode": {
    "name": "ipython",
    "version": 3
   },
   "file_extension": ".py",
   "mimetype": "text/x-python",
   "name": "python",
   "nbconvert_exporter": "python",
   "pygments_lexer": "ipython3",
   "version": "3.11.5"
  }
 },
 "nbformat": 4,
 "nbformat_minor": 5
}
