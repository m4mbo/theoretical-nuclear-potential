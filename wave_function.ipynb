{
 "cells": [
  {
   "cell_type": "code",
   "execution_count": 7,
   "id": "a9e35d45-3455-42a7-a5f0-bc026490ef7d",
   "metadata": {},
   "outputs": [],
   "source": [
    "import numpy as np\n",
    "import matplotlib as plt\n",
    "import sympy as sy"
   ]
  },
  {
   "cell_type": "code",
   "execution_count": 11,
   "metadata": {},
   "outputs": [
    {
     "name": "stderr",
     "output_type": "stream",
     "text": [
      "C:\\Users\\matia\\AppData\\Local\\Temp\\ipykernel_10736\\3335872027.py:2: RuntimeWarning: invalid value encountered in sqrt\n",
      "  i = np.sqrt(-1)\n"
     ]
    }
   ],
   "source": [
    "e = np.e\n",
    "i = np.sqrt(-1)"
   ]
  },
  {
   "cell_type": "code",
   "execution_count": 5,
   "id": "277ee643",
   "metadata": {},
   "outputs": [],
   "source": [
    "def gamma_fun(a):\n",
    "    t = sy.Symbol(\"t\")\n",
    "    return sy.integrate(g_integral(t, a), (t, 0, float('inf')))\n",
    "\n",
    "def g_integral(t, a):\n",
    "    return (e**(-t))*(t**(a-1))"
   ]
  },
  {
   "cell_type": "markdown",
   "id": "519f3c31",
   "metadata": {},
   "source": [
    "hypergeometric function of second kind"
   ]
  },
  {
   "cell_type": "code",
   "execution_count": 6,
   "id": "24c42aca",
   "metadata": {},
   "outputs": [],
   "source": [
    "def U(a, b, z):\n",
    "    t = sy.Symbol(\"t\")\n",
    "    r = sy.integrate(U_integral(t, a, b, z), (t, 0, float('inf')))\n",
    "    r /= gamma_fun(a)\n",
    "    return r\n",
    "\n",
    "def U_integral(t, a, b, z):\n",
    "    r = (e**(-z*t))\n",
    "    r *= t**(a-1)\n",
    "    r *= (t+1)**(b-a-1)\n",
    "    return r\n",
    "\n",
    "# One entry\n",
    "\n",
    "def U_x(x, k, kp):\n",
    "    a = 1 - (i*kp)/(2*k)\n",
    "    b = 2\n",
    "    z = 2*k*x*i\n",
    "\n",
    "    r = e**(-k*x*i)\n",
    "    r *= x\n",
    "    r *= U(a, b, z)\n",
    "\n",
    "    return r\n",
    "\n",
    "def Up_x(x, k, kp):\n",
    "\n",
    "    return 1"
   ]
  },
  {
   "cell_type": "code",
   "execution_count": 12,
   "id": "e6b30bec",
   "metadata": {},
   "outputs": [],
   "source": [
    "def B(A, k ,kp, a):\n",
    "    num = i*2*k\n",
    "    den =  Up_x(a, k, kp) * e**(-i*k*a)\n",
    "    den += i*k * U_x(a, k, kp) * e**(-i*k*a)\n",
    "    return (num/den)*A\n",
    "\n",
    "def C(A, k ,kp, a):\n",
    "    num = 2*(i*k * (e**(-i*k*a)) * e**(i*k*a))\n",
    "    den =  Up_x(a, k, kp) * e**(-i*k*a)\n",
    "    den += i*k * U_x(a, k, kp) * e**(-i*k*a)\n",
    "    return (num/den)*A"
   ]
  },
  {
   "cell_type": "code",
   "execution_count": null,
   "id": "5b10ce24",
   "metadata": {},
   "outputs": [],
   "source": [
    "def wave_1(x, k, kp, A):\n",
    "    r = A * e**(i*k*a)\n",
    "    r += B(A,k,kp,x) * e**(-i*k*a)\n",
    "    return r\n",
    "\n",
    "def wave_2(x, k, kp, A):\n",
    "    return C(A,k,kp,x) * U_x(x, k, kp)"
   ]
  },
  {
   "cell_type": "markdown",
   "id": "907aa219",
   "metadata": {},
   "source": [
    "Example for $^{224}T$\n"
   ]
  },
  {
   "cell_type": "code",
   "execution_count": null,
   "id": "35aeed4c",
   "metadata": {},
   "outputs": [],
   "source": [
    "A = 224\n",
    "a = 7.22 * 10**(-15)"
   ]
  }
 ],
 "metadata": {
  "kernelspec": {
   "display_name": "Python 3 (ipykernel)",
   "language": "python",
   "name": "python3"
  },
  "language_info": {
   "codemirror_mode": {
    "name": "ipython",
    "version": 3
   },
   "file_extension": ".py",
   "mimetype": "text/x-python",
   "name": "python",
   "nbconvert_exporter": "python",
   "pygments_lexer": "ipython3",
   "version": "3.11.5"
  }
 },
 "nbformat": 4,
 "nbformat_minor": 5
}
