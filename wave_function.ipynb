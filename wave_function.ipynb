{
 "cells": [
  {
   "cell_type": "code",
   "execution_count": 1,
   "id": "a9e35d45-3455-42a7-a5f0-bc026490ef7d",
   "metadata": {},
   "outputs": [],
   "source": [
    "import numpy as np\n",
    "import matplotlib.pyplot as plt\n",
    "import sympy as sy\n",
    "from spicy import constants\n",
    "from matplotlib import cm\n",
    "from mpl_toolkits.mplot3d import Axes3D\n",
    "from wolframclient.evaluation import WolframLanguageSession\n",
    "from wolframclient.language import wl, wlexpr"
   ]
  },
  {
   "cell_type": "code",
   "execution_count": 2,
   "id": "6976ebc3",
   "metadata": {},
   "outputs": [],
   "source": [
    "session = WolframLanguageSession()"
   ]
  },
  {
   "cell_type": "code",
   "execution_count": 3,
   "metadata": {},
   "outputs": [],
   "source": [
    "i = 1j\n",
    "pi = np.pi\n",
    "h = constants.Planck\n",
    "hbar = constants.hbar\n",
    "epsilon_0 = constants.epsilon_0\n",
    "m_p = constants.m_p\n",
    "m_e = constants.m_e\n",
    "m_n = constants.m_n\n",
    "e_c = constants.elementary_charge"
   ]
  },
  {
   "cell_type": "markdown",
   "id": "519f3c31",
   "metadata": {},
   "source": [
    "hypergeometric function of second kind"
   ]
  },
  {
   "cell_type": "code",
   "execution_count": 4,
   "id": "24c42aca",
   "metadata": {},
   "outputs": [],
   "source": [
    "# One entry\n",
    "def U_x(x, k, kp):\n",
    "    arg = \"k:=\"+str(k).replace('e', \"*10^\")\n",
    "    session.evaluate(wlexpr(arg))\n",
    "    arg = \"kp:=\"+str(kp).replace('e', \"*10^\")\n",
    "    session.evaluate(wlexpr(arg))\n",
    "    session.evaluate('f[x_]:=HypergeometricU[1-(kp*\\[ImaginaryI])/(k*2),2,2*k*x*\\[ImaginaryI]]* E^(-k*\\[ImaginaryI]*x) * x')\n",
    "    arg = \"N[f[\"+str(x).replace('e', \"*10^\")+\"]]\"\n",
    "    U_numeric = session.evaluate(wlexpr(arg)) \n",
    "    U_complex = complex(U_numeric[0], U_numeric[1])\n",
    "    return U_complex\n",
    "\n",
    "def Up_x(x, k, kp):\n",
    "    arg = \"k:=\"+str(k).replace('e', \"*10^\")\n",
    "    session.evaluate(wlexpr(arg))\n",
    "    arg = \"kp:=\"+str(kp).replace('e', \"*10^\")\n",
    "    session.evaluate(wlexpr(arg))\n",
    "    session.evaluate('f[x_]:=HypergeometricU[1-(kp*\\[ImaginaryI])/(k*2),2,2*k*x*\\[ImaginaryI]]* E^(-k*\\[ImaginaryI]*x) * x')\n",
    "    arg = \"N[f'[\"+str(x).replace('e', \"*10^\")+\"]]\"\n",
    "    Up_numeric = session.evaluate(wlexpr(arg)) \n",
    "    Up_complex = complex(Up_numeric[0], Up_numeric[1])\n",
    "    return Up_complex  "
   ]
  },
  {
   "cell_type": "code",
   "execution_count": 14,
   "id": "e6b30bec",
   "metadata": {},
   "outputs": [],
   "source": [
    "def B(A, kappa, k ,kp, a):\n",
    "    num = 2*i*kappa\n",
    "    den =  Up_x(a, k, kp) * np.exp(-(i)*kappa*a)\n",
    "    den += i*kappa * U_x(a, k, kp) * np.exp(-i*kappa*a)\n",
    "    return (num/den)*A\n",
    "\n",
    "def C(A, kappa, k ,kp, a):\n",
    "    num = 2*(i*kappa * (np.exp(-i*kappa*a)) * np.exp(i*kappa*a))\n",
    "    den =  Up_x(a, k, kp) * np.exp(-i*kappa*a)\n",
    "    den += i*kappa * U_x(a, k, kp) * np.exp(-i*kappa*a)\n",
    "    return (num/den)*A"
   ]
  },
  {
   "cell_type": "code",
   "execution_count": 31,
   "id": "5b10ce24",
   "metadata": {},
   "outputs": [],
   "source": [
    "def wavefun_1(x, a, kappa, k, kp, A):\n",
    "    r = A * np.exp(i*kappa*x)\n",
    "    r += B(A,kappa,k,kp,a) * np.exp(-i*kappa*x)\n",
    "    return r\n",
    "\n",
    "def wavefun_2(x, a, kappa, k, kp, A):\n",
    "    return C(A,kappa,k,kp,a) * U_x(x, k, kp)"
   ]
  },
  {
   "cell_type": "code",
   "execution_count": 32,
   "id": "292491e0",
   "metadata": {},
   "outputs": [],
   "source": [
    "def kappa(m, Q, V0):\n",
    "    r = 2*m*(Q+V0)\n",
    "    r /= h**2\n",
    "    return np.sqrt(r)\n",
    "\n",
    "def k(m, Q):\n",
    "    r = 2*m*Q\n",
    "    r /= hbar**2\n",
    "    return np.sqrt(r)\n",
    "\n",
    "def kp(m, Z):\n",
    "    r = m*(Z-2)*(e_c**2) #Because an alpha particle has 2 protons and 2 nucleus, the atomic number of the daughter nucleus is Z-2\n",
    "    r /= pi*epsilon_0*(hbar**2)\n",
    "    return r"
   ]
  },
  {
   "cell_type": "markdown",
   "id": "907aa219",
   "metadata": {},
   "source": [
    "Example for $^{224}T$\n"
   ]
  },
  {
   "cell_type": "code",
   "execution_count": 33,
   "id": "35aeed4c",
   "metadata": {},
   "outputs": [],
   "source": [
    "A = 224\n",
    "a = 7.22 * 10**(-15)\n",
    "Z = 90\n",
    "Q =  1.42433 * 10**(-12)\n",
    "V0 = 5.6076 * 10**(-12)\n",
    "m = 224.020186 * 1.66053906660 * 10**(-27)\n",
    "k = k(m,Q)\n",
    "kappa = kappa(m,Q,V0)\n",
    "kp = kp(m,Z)"
   ]
  },
  {
   "cell_type": "code",
   "execution_count": 34,
   "id": "7bb3f621",
   "metadata": {},
   "outputs": [],
   "source": [
    "radius_values = np.linspace(0, a, 1000)\n",
    "Psi_re = [(wavefun_1(radius, a, kappa, k, kp, A).real) for radius in radius_values]"
   ]
  },
  {
   "cell_type": "code",
   "execution_count": 35,
   "id": "6b7d72af",
   "metadata": {},
   "outputs": [
    {
     "data": {
      "text/plain": [
       "<function matplotlib.pyplot.show(close=None, block=None)>"
      ]
     },
     "execution_count": 35,
     "metadata": {},
     "output_type": "execute_result"
    },
    {
     "data": {
      "image/png": "[encoded data removed]",
      "text/plain": [
       "<Figure size 640x480 with 1 Axes>"
      ]
     },
     "metadata": {},
     "output_type": "display_data"
    }
   ],
   "source": [
    "plt.plot(radius_values, Psi_re, color='red')\n",
    "plt.show"
   ]
  },
  {
   "cell_type": "code",
   "execution_count": null,
   "id": "637abf48",
   "metadata": {},
   "outputs": [],
   "source": []
  }
 ],
 "metadata": {
  "kernelspec": {
   "display_name": "Python 3 (ipykernel)",
   "language": "python",
   "name": "python3"
  },
  "language_info": {
   "codemirror_mode": {
    "name": "ipython",
    "version": 3
   },
   "file_extension": ".py",
   "mimetype": "text/x-python",
   "name": "python",
   "nbconvert_exporter": "python",
   "pygments_lexer": "ipython3",
   "version": "3.11.5"
  }
 },
 "nbformat": 4,
 "nbformat_minor": 5
}
